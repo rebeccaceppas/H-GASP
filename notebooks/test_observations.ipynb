{
 "cells": [
  {
   "cell_type": "code",
   "execution_count": 8,
   "id": "0099b397",
   "metadata": {},
   "outputs": [
    {
     "name": "stdout",
     "output_type": "stream",
     "text": [
      "The autoreload extension is already loaded. To reload it, use:\n",
      "  %reload_ext autoreload\n"
     ]
    }
   ],
   "source": [
    "import sys\n",
    "\n",
    "sys.path.append('/home/rebeccac/scratch/H-GASP')\n",
    "\n",
    "import observations as obs\n",
    "import frequencies as fr\n",
    "\n",
    "%load_ext autoreload\n",
    "%autoreload 2"
   ]
  },
  {
   "cell_type": "code",
   "execution_count": null,
   "id": "4b8fd33a",
   "metadata": {},
   "outputs": [],
   "source": []
  },
  {
   "cell_type": "code",
   "execution_count": 16,
   "id": "8066bc9c",
   "metadata": {},
   "outputs": [
    {
     "name": "stdout",
     "output_type": "stream",
     "text": [
      "[0.000e+00 1.000e+00 2.000e+00 ... 3.824e+03 3.825e+03 3.826e+03]\n",
      "2540.0048711031177 299.41453087529976 3827\n"
     ]
    }
   ],
   "source": [
    "fstate = fr.get_frequencies(1420, 300, 1)"
   ]
  },
  {
   "cell_type": "code",
   "execution_count": 13,
   "id": "dcc10d7a",
   "metadata": {},
   "outputs": [
    {
     "data": {
      "text/plain": [
       "array([2540.15123838, 2539.85850382, 2539.56576926, 2539.2730347 ,\n",
       "       2538.98030013, 2538.68756557, 2538.39483101, 2538.10209645,\n",
       "       2537.80936189, 2537.51662732, 2537.22389276, 2536.9311582 ,\n",
       "       2536.63842364, 2536.34568907, 2536.05295451, 2535.76021995,\n",
       "       2535.46748539, 2535.17475082, 2534.88201626, 2534.5892817 ,\n",
       "       2534.29654714, 2534.00381257, 2533.71107801, 2533.41834345,\n",
       "       2533.12560889, 2532.83287433, 2532.54013976, 2532.2474052 ,\n",
       "       2531.95467064, 2531.66193608, 2531.36920151, 2531.07646695,\n",
       "       2530.78373239, 2530.49099783, 2530.19826326, 2529.9055287 ,\n",
       "       2529.61279414, 2529.32005958])"
      ]
     },
     "execution_count": 13,
     "metadata": {},
     "output_type": "execute_result"
    }
   ],
   "source": [
    "fstate.frequencies"
   ]
  },
  {
   "cell_type": "code",
   "execution_count": 5,
   "id": "340dd19e",
   "metadata": {},
   "outputs": [],
   "source": [
    "U = 2\n",
    "map_paths = ''\n",
    "output_directory = './'\n",
    "output_filename = 'Up_fg_test.h5'\n",
    "R_filepath = 'R.npy'\n",
    "norm_filepath = 'norm.npy'\n",
    "\n",
    "upchan = observations.UpchannelizedMap(U,\n",
    "                                      map_paths,\n",
    "                                      output_directory,\n",
    "                                      output_filename,\n",
    "                                      R_filepath,\n",
    "                                      norm_filepath)"
   ]
  },
  {
   "cell_type": "code",
   "execution_count": null,
   "id": "a9d7a70d",
   "metadata": {},
   "outputs": [],
   "source": []
  },
  {
   "cell_type": "code",
   "execution_count": null,
   "id": "75e39d25",
   "metadata": {},
   "outputs": [],
   "source": []
  },
  {
   "cell_type": "code",
   "execution_count": null,
   "id": "ffaafae6",
   "metadata": {},
   "outputs": [],
   "source": []
  }
 ],
 "metadata": {
  "kernelspec": {
   "display_name": "Python 3 (ipykernel)",
   "language": "python",
   "name": "python3"
  },
  "language_info": {
   "codemirror_mode": {
    "name": "ipython",
    "version": 3
   },
   "file_extension": ".py",
   "mimetype": "text/x-python",
   "name": "python",
   "nbconvert_exporter": "python",
   "pygments_lexer": "ipython3",
   "version": "3.10.2"
  }
 },
 "nbformat": 4,
 "nbformat_minor": 5
}
