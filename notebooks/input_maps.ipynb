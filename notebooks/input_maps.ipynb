{
 "cells": [
  {
   "cell_type": "code",
   "execution_count": 2,
   "metadata": {},
   "outputs": [],
   "source": [
    "import matplotlib.pyplot as plt\n",
    "import sys\n",
    "\n",
    "import h5py\n",
    "\n",
    "sys.path.append('/Users/rebeccaceppas/Desktop/CHORD/H-GASP')\n",
    "\n",
    "import input_maps as im\n",
    "from GalaxyCatalog import GalaxyCatalog\n",
    "\n",
    "%load_ext autoreload\n",
    "%autoreload 2"
   ]
  },
  {
   "cell_type": "markdown",
   "metadata": {},
   "source": [
    "# HI galaxies from catalog"
   ]
  },
  {
   "cell_type": "code",
   "execution_count": 14,
   "metadata": {},
   "outputs": [],
   "source": [
    "f_start = 1414\n",
    "f_end = 1409\n",
    "nfreq = 50\n",
    "nside = 16\n",
    "output_directory = './products/'\n",
    "catalog_filepath = './products/HI_Catalog.txt'\n"
   ]
  },
  {
   "cell_type": "code",
   "execution_count": 19,
   "metadata": {},
   "outputs": [
    {
     "name": "stdout",
     "output_type": "stream",
     "text": [
      "Generating spectra for 3 galaxies.\n"
     ]
    }
   ],
   "source": [
    "# choosing the number, location, and peak brightness of galaxies\n",
    "output_filename = 'HI_gals_3.h5'\n",
    "ngals = 3\n",
    "hi_gals3 = im.HIGalaxies(catalog_filepath, f_start, f_end, nfreq)\n",
    "hi_gals3.get_map(nside, \n",
    "                 output_directory+output_filename, \n",
    "                 ngals=ngals, \n",
    "                 seed=471, \n",
    "                 T_brightness=[2, 2, 2],\n",
    "                 ras=[180,200,220],\n",
    "                 decs=[45,47,49])"
   ]
  },
  {
   "cell_type": "code",
   "execution_count": 18,
   "metadata": {},
   "outputs": [
    {
     "name": "stdout",
     "output_type": "stream",
     "text": [
      "Generating spectra for 10000 galaxies.\n"
     ]
    }
   ],
   "source": [
    "# injecting full catalog as it comes\n",
    "output_filename = 'HI_gals_all.h5'\n",
    "hi_gals = im.HIGalaxies(catalog_filepath, f_start, f_end, nfreq)\n",
    "hi_gals.get_map(nside, \n",
    "                 output_directory+output_filename)"
   ]
  },
  {
   "cell_type": "markdown",
   "metadata": {},
   "source": [
    "# Synthesized beam"
   ]
  },
  {
   "cell_type": "code",
   "execution_count": 30,
   "metadata": {},
   "outputs": [],
   "source": [
    "f_start = 1420\n",
    "f_end = 1419\n",
    "nfreq = 2\n",
    "\n",
    "nside = 16\n",
    "ra = 180\n",
    "dec = 45\n",
    "\n",
    "output_directory = './products/'\n",
    "\n",
    "synth_beam = im.SynthesizedBeam(f_start, f_end, nfreq)\n",
    "\n",
    "synth_beam.get_map(nside, ra, dec, output_directory)"
   ]
  },
  {
   "cell_type": "code",
   "execution_count": null,
   "metadata": {},
   "outputs": [],
   "source": []
  }
 ],
 "metadata": {
  "kernelspec": {
   "display_name": "CHORD",
   "language": "python",
   "name": "python3"
  },
  "language_info": {
   "codemirror_mode": {
    "name": "ipython",
    "version": 3
   },
   "file_extension": ".py",
   "mimetype": "text/x-python",
   "name": "python",
   "nbconvert_exporter": "python",
   "pygments_lexer": "ipython3",
   "version": "3.12.3"
  }
 },
 "nbformat": 4,
 "nbformat_minor": 2
}
