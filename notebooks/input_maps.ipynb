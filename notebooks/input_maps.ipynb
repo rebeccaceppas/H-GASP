{
 "cells": [
  {
   "cell_type": "code",
   "execution_count": 4,
   "metadata": {},
   "outputs": [],
   "source": [
    "import matplotlib.pyplot as plt\n",
    "import sys\n",
    "\n",
    "import h5py\n",
    "\n",
    "sys.path.append('/home/rebeccac/scratch/H-GASP')\n",
    "\n",
    "import input_maps as im\n",
    "from GalaxyCatalog import GalaxyCatalog\n",
    "\n",
    "%load_ext autoreload\n",
    "%autoreload 2"
   ]
  },
  {
   "cell_type": "markdown",
   "metadata": {},
   "source": [
    "# HI galaxies from catalog"
   ]
  },
  {
   "cell_type": "code",
   "execution_count": 14,
   "metadata": {},
   "outputs": [],
   "source": [
    "f_start = 1414\n",
    "f_end = 1409\n",
    "nfreq = 50\n",
    "nside = 16\n",
    "output_directory = './products/'\n",
    "catalog_filepath = './products/HI_Catalog.txt'\n"
   ]
  },
  {
   "cell_type": "code",
   "execution_count": 19,
   "metadata": {},
   "outputs": [
    {
     "name": "stdout",
     "output_type": "stream",
     "text": [
      "Generating spectra for 3 galaxies.\n"
     ]
    }
   ],
   "source": [
    "# choosing the number, location, and peak brightness of galaxies\n",
    "output_filename = 'HI_gals_3.h5'\n",
    "ngals = 3\n",
    "hi_gals3 = im.HIGalaxies(catalog_filepath, f_start, f_end, nfreq)\n",
    "hi_gals3.get_map(nside, \n",
    "                 output_directory+output_filename, \n",
    "                 ngals=ngals, \n",
    "                 seed=471, \n",
    "                 T_brightness=[2, 2, 2],\n",
    "                 ras=[180,200,220],\n",
    "                 decs=[45,47,49])"
   ]
  },
  {
   "cell_type": "code",
   "execution_count": 18,
   "metadata": {},
   "outputs": [
    {
     "name": "stdout",
     "output_type": "stream",
     "text": [
      "Generating spectra for 10000 galaxies.\n"
     ]
    }
   ],
   "source": [
    "# injecting full catalog as it comes\n",
    "output_filename = 'HI_gals_all.h5'\n",
    "hi_gals = im.HIGalaxies(catalog_filepath, f_start, f_end, nfreq)\n",
    "hi_gals.get_map(nside, \n",
    "                 output_directory+output_filename)"
   ]
  },
  {
   "cell_type": "markdown",
   "metadata": {},
   "source": [
    "# Synthesized beam"
   ]
  },
  {
   "cell_type": "code",
   "execution_count": 30,
   "metadata": {},
   "outputs": [],
   "source": [
    "f_start = 1420\n",
    "f_end = 1419\n",
    "nfreq = 2\n",
    "\n",
    "nside = 16\n",
    "ra = 180\n",
    "dec = 45\n",
    "\n",
    "output_directory = './products/'\n",
    "\n",
    "synth_beam = im.SynthesizedBeam(f_start, f_end, nfreq)\n",
    "\n",
    "synth_beam.get_map(nside, ra, dec, output_directory)"
   ]
  },
  {
   "cell_type": "markdown",
   "metadata": {},
   "source": [
    "# Foregrounds"
   ]
  },
  {
   "cell_type": "code",
   "execution_count": 13,
   "metadata": {},
   "outputs": [
    {
     "name": "stderr",
     "output_type": "stream",
     "text": [
      "/project/rrg-kmsmith/shared/chord_env/modules/chord/chord_pipeline/2023.06/lib/python3.10/site-packages/cora/foreground/galaxy.py:183: RuntimeWarning: divide by zero encountered in true_divide\n",
      "  fgt = (am / mv) * (fg - fgs)\n",
      "/cvmfs/soft.computecanada.ca/easybuild/software/2020/avx2/Core/scipy-stack/2022a/lib/python3.10/site-packages/numpy/core/fromnumeric.py:86: RuntimeWarning: invalid value encountered in reduce\n",
      "  return ufunc.reduce(obj, axis, dtype, out, **passkwargs)\n"
     ]
    },
    {
     "name": "stdout",
     "output_type": "stream",
     "text": [
      "Loading data for galaxy simulation.\n",
      "SHTing to give random maps\n",
      "Applying phi weighting\n",
      "Transforming to freq\n",
      "Rescaling freq\n",
      "Scaling by T\n",
      "Rotating\n"
     ]
    },
    {
     "name": "stderr",
     "output_type": "stream",
     "text": [
      "/project/rrg-kmsmith/shared/chord_env/modules/chord/chord_pipeline/2023.06/lib/python3.10/site-packages/cora/foreground/galaxy.py:183: RuntimeWarning: divide by zero encountered in true_divide\n",
      "  fgt = (am / mv) * (fg - fgs)\n",
      "/cvmfs/soft.computecanada.ca/easybuild/software/2020/avx2/Core/scipy-stack/2022a/lib/python3.10/site-packages/numpy/core/fromnumeric.py:86: RuntimeWarning: invalid value encountered in reduce\n",
      "  return ufunc.reduce(obj, axis, dtype, out, **passkwargs)\n"
     ]
    },
    {
     "name": "stdout",
     "output_type": "stream",
     "text": [
      "Loading data for galaxy simulation.\n",
      "SHTing to give random maps\n",
      "Applying phi weighting\n",
      "Transforming to freq\n",
      "Rescaling freq\n",
      "Scaling by T\n",
      "Rotating\n"
     ]
    },
    {
     "name": "stderr",
     "output_type": "stream",
     "text": [
      "/home/rebeccac/scratch/H-GASP/input_maps.py:200: RuntimeWarning: invalid value encountered in add\n",
      "  foregrounds_all += open_map(filename)\n"
     ]
    }
   ],
   "source": [
    "f_start = 1420\n",
    "f_end = 1419\n",
    "nfreq = 4\n",
    "\n",
    "nside = 16\n",
    "output_directory = './'\n",
    "components = ['21cm', 'galaxy', 'pointsource', 'foreground']\n",
    "\n",
    "fg = im.Foregrounds(f_start, f_end, nfreq, nside, output_directory)\n",
    "fg.get_maps(components)"
   ]
  },
  {
   "cell_type": "code",
   "execution_count": null,
   "metadata": {},
   "outputs": [],
   "source": []
  }
 ],
 "metadata": {
  "kernelspec": {
   "display_name": "Python 3 (ipykernel)",
   "language": "python",
   "name": "python3"
  },
  "language_info": {
   "codemirror_mode": {
    "name": "ipython",
    "version": 3
   },
   "file_extension": ".py",
   "mimetype": "text/x-python",
   "name": "python",
   "nbconvert_exporter": "python",
   "pygments_lexer": "ipython3",
   "version": "3.10.2"
  }
 },
 "nbformat": 4,
 "nbformat_minor": 2
}
